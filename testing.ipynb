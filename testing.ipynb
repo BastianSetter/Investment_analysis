{
 "cells": [
  {
   "cell_type": "code",
   "execution_count": 6,
   "metadata": {},
   "outputs": [
    {
     "name": "stdout",
     "output_type": "stream",
     "text": [
      "[[3]]\n"
     ]
    }
   ],
   "source": [
    "from datetime import datetime\n",
    "import numpy as np\n",
    "\n",
    "ar = np.arange(5)\n",
    "indiciesWorking = np.argwhere(ar==3)\n",
    "print(indiciesWorking)"
   ]
  },
  {
   "cell_type": "code",
   "execution_count": 19,
   "metadata": {},
   "outputs": [
    {
     "name": "stdout",
     "output_type": "stream",
     "text": [
      "Index(['Date', 'NAV', 'Index Level'], dtype='object')\n",
      "<class 'numpy.ndarray'>\n"
     ]
    }
   ],
   "source": [
    "import pandas as pd\n",
    "df = pd.read_excel(r'C:\\Users\\basti\\PythonScripts\\Investment_analysis\\data\\MSCIWORLD.xlsx', sheet_name='IE00BJ0KDQ92', skiprows=13)\n",
    "\n",
    "# Display the dataframe\n",
    "# print(df)\n",
    "\n",
    "# # Access specific columns\n",
    "print(df.columns)\n",
    "dates = df['Date'].values\n",
    "print(type(dates))\n",
    "#Iterate through rows\n",
    "# for index, row in df.iterrows():\n",
    "#     print(row['Date'])"
   ]
  },
  {
   "cell_type": "code",
   "execution_count": 27,
   "metadata": {},
   "outputs": [
    {
     "name": "stdout",
     "output_type": "stream",
     "text": [
      "a 1\n",
      "b 2\n",
      "c 3\n",
      "6\n",
      "[2, 3, 3]\n"
     ]
    }
   ],
   "source": [
    "a = {'a':1,'b':2,'c':3}\n",
    "for i,j in a.items():\n",
    "    print(i,j)\n",
    "print(sum(a.values()))\n",
    "a = [2,3,4]\n",
    "a[2] = 3\n",
    "print(a)"
   ]
  }
 ],
 "metadata": {
  "kernelspec": {
   "display_name": "standard",
   "language": "python",
   "name": "python3"
  },
  "language_info": {
   "codemirror_mode": {
    "name": "ipython",
    "version": 3
   },
   "file_extension": ".py",
   "mimetype": "text/x-python",
   "name": "python",
   "nbconvert_exporter": "python",
   "pygments_lexer": "ipython3",
   "version": "3.10.11"
  }
 },
 "nbformat": 4,
 "nbformat_minor": 2
}
